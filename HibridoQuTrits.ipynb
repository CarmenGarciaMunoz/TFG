{
 "cells": [
  {
   "cell_type": "code",
   "execution_count": 1,
   "id": "b4e0a275-2d22-4d47-83c7-9b31a3752520",
   "metadata": {},
   "outputs": [],
   "source": [
    "from matplotlib import pyplot as plt\n",
    "from numpy.polynomial.hermite import Hermite\n",
    "from math import factorial\n",
    "from qutip import *\n",
    "import numpy as np\n",
    "from scipy import *\n",
    "import imageio\n",
    "from tqdm import tqdm\n",
    "import os\n",
    "from os.path import exists"
   ]
  },
  {
   "cell_type": "code",
   "execution_count": 2,
   "id": "e4b5933e-a303-4bd5-a517-251ffa029a6d",
   "metadata": {},
   "outputs": [],
   "source": [
    "#DEFINICIÓN DE FUNCIONES\n",
    "\n",
    "def FuncionesOscilador(N,n,x):\n",
    "    h=zeros(N)\n",
    "    h[n]=1\n",
    "    c=(1/sqrt(2**(n)*factorial(n)))*pow(1/np.pi,0.25)\n",
    "    return c*exp(-0.5*x**2)*Hermite(h)(x)\n",
    "\n",
    "def gellmann():\n",
    "    matrices=[]\n",
    "    sigma_1 = 0.5*np.array([[0, 1, 0], [1, 0, 0], [0, 0, 0]])\n",
    "    matrices.append(sigma_1)\n",
    "    \n",
    "    sigma_2 = 0.5*np.array([[0, -1j, 0], [1j, 0, 0], [0, 0, 0]])\n",
    "    matrices.append(sigma_2)\n",
    "    \n",
    "    sigma_3 = 0.5*np.array([[1, 0, 0], [0, -1, 0], [0, 0, 0]])\n",
    "    matrices.append(sigma_3)\n",
    "    \n",
    "    sigma_4 = 0.5*np.array([[0, 0, 1], [0, 0, 0], [1, 0, 0]]) \n",
    "    matrices.append(sigma_4)\n",
    "    \n",
    "    sigma_5 = 0.5*np.array([[0, 0, -1j], [0, 0, 0], [1j, 0, 0]])\n",
    "    matrices.append(sigma_5)\n",
    "    \n",
    "    sigma_6 = 0.5*np.array([[0, 0, 0], [0, 0, 1], [0, 1, 0]])\n",
    "    matrices.append(sigma_6)\n",
    "    \n",
    "    sigma_7 = 0.5*np.array([[0, 0, 0], [0, 0, -1j], [0, 1j, 0]])\n",
    "    matrices.append(sigma_7)\n",
    "    \n",
    "    sigma_8 = 0.5*(1/np.sqrt(3)) * np.array([[1, 0, 0], [0, 1, 0], [0, 0, -2]])\n",
    "    matrices.append(sigma_8)\n",
    "    \n",
    "    return matrices"
   ]
  },
  {
   "cell_type": "code",
   "execution_count": 3,
   "id": "c38cee4b",
   "metadata": {},
   "outputs": [],
   "source": [
    "#Número de polinomios de Hermite \n",
    "Nc=5\n",
    "\n",
    "#Spin y dimensión de cada subespacio cuántico\n",
    "S=1\n",
    "Nq=int(2*S+1)\n",
    "\n",
    "#Operadores identidad\n",
    "Ic=qeye(Nc)\n",
    "Iq=qeye(Nq)"
   ]
  },
  {
   "cell_type": "code",
   "execution_count": 4,
   "id": "36e8f5e0-d1a4-44dd-9d2e-9da32268b9c8",
   "metadata": {},
   "outputs": [],
   "source": [
    "#Definición de coordenadas y momentos clásicos\n",
    "a = np.zeros((Nc,Nc)) #Operador destrucción\n",
    "aa = np.zeros((Nc,Nc)) #Operador creación\n",
    "for i in range(Nc-1):\n",
    "    a[i][i+1]=math.sqrt(i+1)\n",
    "    aa[i+1][i]=math.sqrt(i+1)\n",
    "\n",
    "aaq=tensor(Qobj(aa),Ic)\n",
    "aap=tensor(Ic,Qobj(aa))\n",
    "aq=tensor(Qobj(a),Ic)\n",
    "ap=tensor(Ic,Qobj(a))\n",
    "\n",
    "q=1/np.sqrt(2)*(aq+aaq)\n",
    "piq=-1j*1/np.sqrt(2)*(aaq-aq)\n",
    "p=1/np.sqrt(2)*(ap+aap)\n",
    "pip=-1j*1/np.sqrt(2)*(aap-ap)"
   ]
  },
  {
   "cell_type": "code",
   "execution_count": 5,
   "id": "ad2ae35b-b9d7-4559-817c-bb26d19b4e0a",
   "metadata": {},
   "outputs": [
    {
     "name": "stderr",
     "output_type": "stream",
     "text": [
      "C:\\Users\\Usuario\\AppData\\Local\\Temp\\ipykernel_13160\\2543777181.py:8: DeprecationWarning: scipy.zeros is deprecated and will be removed in SciPy 2.0.0, use numpy.zeros instead\n",
      "  Sp_aux=zeros((Nq,Nq))\n",
      "C:\\Users\\Usuario\\AppData\\Local\\Temp\\ipykernel_13160\\2543777181.py:9: DeprecationWarning: scipy.zeros is deprecated and will be removed in SciPy 2.0.0, use numpy.zeros instead\n",
      "  Sm_aux=zeros((Nq,Nq))\n",
      "C:\\Users\\Usuario\\AppData\\Local\\Temp\\ipykernel_13160\\2543777181.py:10: DeprecationWarning: scipy.zeros is deprecated and will be removed in SciPy 2.0.0, use numpy.zeros instead\n",
      "  Sz_aux=zeros((Nq,Nq))\n"
     ]
    }
   ],
   "source": [
    "#Momento angular cuántico\n",
    "\n",
    "S2q=S*(S+1)*qeye(Nq)\n",
    "mz=np.zeros(Nq)\n",
    "for j in range(Nq):\n",
    "    mz[j]=-S+j\n",
    "\n",
    "Sp_aux=zeros((Nq,Nq))\n",
    "Sm_aux=zeros((Nq,Nq))\n",
    "Sz_aux=zeros((Nq,Nq))\n",
    "\n",
    "for k in range(Nq):\n",
    "    if k!=Nq-1:\n",
    "        Sm_aux[k][k+1]=np.sqrt(S*(S+1)-mz[k+1]*(mz[k+1]-1))\n",
    "        Sp_aux[k+1][k]=np.sqrt(S*(S+1)-mz[k]*(mz[k]+1))\n",
    "    Sz_aux[k][k]=mz[k]\n",
    "    \n",
    "Sp=Qobj(Sp_aux)\n",
    "Sm=Qobj(Sm_aux)\n",
    "Sz=Qobj(Sz_aux)\n",
    "Sx=1/2*(Sm+Sp)\n",
    "Sy=1/2/1j*(Sm-Sp)\n",
    "\n",
    "S2=tensor(S2q,Iq)+tensor(Iq,S2q)+2*tensor(Sz,Sz)+tensor(Sp,Sm)+tensor(Sm,Sp)"
   ]
  },
  {
   "cell_type": "code",
   "execution_count": 6,
   "id": "3eace228",
   "metadata": {},
   "outputs": [],
   "source": [
    "#Hamiltoniano\n",
    "Hc=-1j/2*((aq+aaq)*(ap-aap)-(ap+aap)*(aq-aaq))\n",
    "Hq=tensor(Sx,Iq)+tensor(Iq,Sx)\n",
    "Hcq=tensor((aaq+aq),tensor(Sz,Iq)+tensor(Iq,Sz))\n",
    "\n",
    "H=tensor(Hc,Iq,Iq)\n",
    "#H=tensor(Hc,Iq,Iq)+tensor(Ic,Ic,Hq)+Hcq\n",
    "\n",
    "#Operadores de Krauss\n",
    "V0c=q+piq-pip\n",
    "\n",
    "V0=tensor(V0c,S2)"
   ]
  },
  {
   "cell_type": "code",
   "execution_count": 7,
   "id": "482f358e-4d75-44b8-93fa-24f269eba374",
   "metadata": {},
   "outputs": [],
   "source": [
    "#PARTE CLÁSICA\n",
    "ϕc=tensor(basis(Nc,0),basis(Nc,1))\n",
    "\n",
    "#PARTE CUÁNTICA\n",
    "#Singlete\n",
    "ϕsq=tensor(basis(Nq,2),basis(Nq,0))-tensor(basis(Nq,1),basis(Nq,1))+tensor(basis(Nq,0),basis(Nq,2))\n",
    "\n",
    "#Triplete\n",
    "ϕtq=tensor(basis(Nq,2),basis(Nq,0))-tensor(basis(Nq,0),basis(Nq,2))\n",
    "\n",
    "#Quintuplete\n",
    "ϕqq=tensor(basis(Nq,2),basis(Nq,2))\n",
    "\n",
    "#Total\n",
    "ϕs=(tensor(ϕc,ϕsq)).unit()\n",
    "ϕt=(tensor(ϕc,ϕtq)).unit()\n",
    "ϕq=(tensor(ϕc,ϕqq)).unit()\n",
    "\n",
    "ρs=ϕs*ϕs.dag()\n",
    "ρt=ϕt*ϕt.dag()\n",
    "ρq=ϕq*ϕq.dag()\n",
    "ρc=ϕc*ϕc.dag()"
   ]
  },
  {
   "cell_type": "code",
   "execution_count": 9,
   "id": "ad237e97-3e37-4e82-8705-0c4e90ee9ab5",
   "metadata": {
    "scrolled": true
   },
   "outputs": [
    {
     "name": "stdout",
     "output_type": "stream",
     "text": [
      "10.0%. Run time:   0.04s. Est. time left: 00:00:00:00\n",
      "20.0%. Run time:   0.05s. Est. time left: 00:00:00:00\n",
      "30.0%. Run time:   0.05s. Est. time left: 00:00:00:00\n",
      "40.0%. Run time:   0.07s. Est. time left: 00:00:00:00\n",
      "50.0%. Run time:   0.07s. Est. time left: 00:00:00:00\n",
      "60.0%. Run time:   0.08s. Est. time left: 00:00:00:00\n",
      "70.0%. Run time:   0.09s. Est. time left: 00:00:00:00\n",
      "80.0%. Run time:   0.10s. Est. time left: 00:00:00:00\n",
      "90.0%. Run time:   0.11s. Est. time left: 00:00:00:00\n",
      "Total run time:   0.12s\n",
      "10.0%. Run time:   0.03s. Est. time left: 00:00:00:00\n"
     ]
    },
    {
     "name": "stderr",
     "output_type": "stream",
     "text": [
      "C:\\Users\\Usuario\\AppData\\Local\\Temp\\ipykernel_13160\\2617005181.py:4: DeprecationWarning: scipy.linspace is deprecated and will be removed in SciPy 2.0.0, use numpy.linspace instead\n",
      "  time=linspace(0,T,pasos)\n"
     ]
    },
    {
     "name": "stdout",
     "output_type": "stream",
     "text": [
      "20.0%. Run time:   0.04s. Est. time left: 00:00:00:00\n",
      "30.0%. Run time:   0.04s. Est. time left: 00:00:00:00\n",
      "40.0%. Run time:   0.06s. Est. time left: 00:00:00:00\n",
      "50.0%. Run time:   0.06s. Est. time left: 00:00:00:00\n",
      "60.0%. Run time:   0.07s. Est. time left: 00:00:00:00\n",
      "70.0%. Run time:   0.08s. Est. time left: 00:00:00:00\n",
      "80.0%. Run time:   0.09s. Est. time left: 00:00:00:00\n",
      "90.0%. Run time:   0.09s. Est. time left: 00:00:00:00\n",
      "Total run time:   0.11s\n",
      "10.0%. Run time:   0.03s. Est. time left: 00:00:00:00\n",
      "20.0%. Run time:   0.03s. Est. time left: 00:00:00:00\n",
      "30.0%. Run time:   0.04s. Est. time left: 00:00:00:00\n",
      "40.0%. Run time:   0.05s. Est. time left: 00:00:00:00\n",
      "50.0%. Run time:   0.06s. Est. time left: 00:00:00:00\n",
      "60.0%. Run time:   0.06s. Est. time left: 00:00:00:00\n",
      "70.0%. Run time:   0.07s. Est. time left: 00:00:00:00\n",
      "80.0%. Run time:   0.08s. Est. time left: 00:00:00:00\n",
      "90.0%. Run time:   0.09s. Est. time left: 00:00:00:00\n",
      "Total run time:   0.09s\n",
      "10.0%. Run time:   0.08s. Est. time left: 00:00:00:00\n",
      "20.0%. Run time:   0.10s. Est. time left: 00:00:00:00\n",
      "30.0%. Run time:   0.10s. Est. time left: 00:00:00:00\n",
      "40.0%. Run time:   0.12s. Est. time left: 00:00:00:00\n",
      "50.0%. Run time:   0.13s. Est. time left: 00:00:00:00\n",
      "60.0%. Run time:   0.13s. Est. time left: 00:00:00:00\n",
      "70.0%. Run time:   0.14s. Est. time left: 00:00:00:00\n",
      "80.0%. Run time:   0.14s. Est. time left: 00:00:00:00\n",
      "90.0%. Run time:   0.17s. Est. time left: 00:00:00:00\n",
      "Total run time:   0.17s\n",
      "10.0%. Run time:   0.18s. Est. time left: 00:00:00:01\n",
      "20.0%. Run time:   0.20s. Est. time left: 00:00:00:00\n",
      "30.0%. Run time:   0.24s. Est. time left: 00:00:00:00\n",
      "40.0%. Run time:   0.28s. Est. time left: 00:00:00:00\n",
      "50.0%. Run time:   0.31s. Est. time left: 00:00:00:00\n",
      "60.0%. Run time:   0.35s. Est. time left: 00:00:00:00\n",
      "70.0%. Run time:   0.65s. Est. time left: 00:00:00:00\n",
      "80.0%. Run time:   0.95s. Est. time left: 00:00:00:00\n",
      "90.0%. Run time:   1.23s. Est. time left: 00:00:00:00\n",
      "Total run time:   1.49s\n",
      "10.0%. Run time:   0.49s. Est. time left: 00:00:00:04\n",
      "20.0%. Run time:   0.70s. Est. time left: 00:00:00:02\n",
      "30.0%. Run time:   0.88s. Est. time left: 00:00:00:02\n",
      "40.0%. Run time:   1.17s. Est. time left: 00:00:00:01\n",
      "50.0%. Run time:   1.47s. Est. time left: 00:00:00:01\n",
      "60.0%. Run time:   1.80s. Est. time left: 00:00:00:01\n",
      "70.0%. Run time:   2.07s. Est. time left: 00:00:00:00\n",
      "80.0%. Run time:   2.34s. Est. time left: 00:00:00:00\n",
      "90.0%. Run time:   2.60s. Est. time left: 00:00:00:00\n",
      "Total run time:   2.74s\n",
      "10.0%. Run time:   0.00s. Est. time left: 00:00:00:00\n",
      "20.0%. Run time:   0.00s. Est. time left: 00:00:00:00\n",
      "30.0%. Run time:   0.01s. Est. time left: 00:00:00:00\n",
      "40.0%. Run time:   0.01s. Est. time left: 00:00:00:00\n",
      "50.0%. Run time:   0.01s. Est. time left: 00:00:00:00\n",
      "60.0%. Run time:   0.01s. Est. time left: 00:00:00:00\n",
      "70.0%. Run time:   0.01s. Est. time left: 00:00:00:00\n",
      "80.0%. Run time:   0.01s. Est. time left: 00:00:00:00\n",
      "90.0%. Run time:   0.02s. Est. time left: 00:00:00:00\n",
      "Total run time:   0.02s\n"
     ]
    }
   ],
   "source": [
    "#Simulaciones\n",
    "T=0.05 #Tiempo de simulación\n",
    "pasos=30 #Número de pasos temporales\n",
    "time=linspace(0,T,pasos)\n",
    "\n",
    "#Evolución híbrida unitaria\n",
    "EvolucionUnitariaSinglete=mesolve(H,ρs,time,progress_bar=True,options=Options(nsteps=500000))\n",
    "EvolucionUnitariaTriplete=mesolve(H,ρt,time,progress_bar=True,options=Options(nsteps=500000))\n",
    "EvolucionUnitariaQuintuplete=mesolve(H,ρq,time,progress_bar=True,options=Options(nsteps=500000))\n",
    "\n",
    "#Evolución híbrida Lindbladiana\n",
    "EvolucionLindbladianaSinglete=mesolve(H,ρs,time,c_ops=[V0],progress_bar=True,options=Options(nsteps=500000))\n",
    "EvolucionLindbladianaTriplete=mesolve(H,ρt,time,c_ops=[V0],progress_bar=True,options=Options(nsteps=500000))\n",
    "EvolucionLindbladianaQuintuplete=mesolve(H,ρq,time,c_ops=[V0],progress_bar=True,options=Options(nsteps=500000))\n",
    "\n",
    "#Evolución clásica Linbladiana\n",
    "EvolucionClasica=mesolve(Hc,ρc,time,c_ops=[V0c],progress_bar=True)"
   ]
  },
  {
   "cell_type": "code",
   "execution_count": 10,
   "id": "bc46aec5",
   "metadata": {},
   "outputs": [],
   "source": [
    "#Evolución híbrida Lindbladiana para el singlete\n",
    "#Matrices\n",
    "EstadosLindbladianaSinglete=[EvolucionLindbladianaSinglete.states[t] for t in range(len(time))]\n",
    "ρcLindbladianaSinglete=[EstadosLindbladianaSinglete[i].ptrace([0,1]) for i in range(len(time))]\n",
    "ρ2cLindbladianaSinglete=[ρcLindbladianaSinglete[i]*ρcLindbladianaSinglete[i] for i in range(len(time))]\n",
    "ρq1LindbladianaSinglete=[EstadosLindbladianaSinglete[i].ptrace([2]) for i in range(len(time))]\n",
    "ρq2LindbladianaSinglete=[EstadosLindbladianaSinglete[i].ptrace([3]) for i in range(len(time))]\n",
    "#Trazas\n",
    "TrazaLindbladianaSinglete=[(EstadosLindbladianaSinglete[i].ptrace([2,3])).tr() for i in range(len(time))]\n",
    "ρcTrazaLindbladianaSinglete=[ρcLindbladianaSinglete[t].full().trace() for t in range(len(time))]\n",
    "ρ2cTrazaLindbladianaSinglete=[ρ2cLindbladianaSinglete[t].full().trace() for t in range(len(time))]\n",
    "#Entropías\n",
    "EntropiaLindbladianaSinglete=[entropy_vn(rho, base=np.e, sparse=False) for rho in ρcLindbladianaSinglete]"
   ]
  },
  {
   "cell_type": "code",
   "execution_count": 11,
   "id": "6320eab8",
   "metadata": {},
   "outputs": [],
   "source": [
    "#Evolución híbrida Lindbladiana para el triplete\n",
    "#Matrices\n",
    "EstadosLindbladianaTriplete=[EvolucionLindbladianaTriplete.states[t] for t in range(len(time))]\n",
    "ρcLindbladianaTriplete=[EstadosLindbladianaTriplete[i].ptrace([0,1]) for i in range(len(time))]\n",
    "ρ2cLindbladianaTriplete=[ρcLindbladianaTriplete[i]*ρcLindbladianaTriplete[i] for i in range(len(time))]\n",
    "ρq1LindbladianaTriplete=[EstadosLindbladianaTriplete[i].ptrace([2]) for i in range(len(time))]\n",
    "ρq2LindbladianaTriplete=[EstadosLindbladianaTriplete[i].ptrace([3]) for i in range(len(time))]\n",
    "#Trazas\n",
    "TrazaLindbladianaTriplete=[(EstadosLindbladianaTriplete[i].ptrace([2,3])).tr() for i in range(len(time))]\n",
    "ρcTrazaLindbladianaTriplete=[ρcLindbladianaTriplete[t].full().trace() for t in range(len(time))]\n",
    "ρ2cTrazaLindbladianaTriplete=[ρ2cLindbladianaTriplete[t].full().trace() for t in range(len(time))]\n",
    "#Entropías\n",
    "EntropiaLindbladianaTriplete=[entropy_vn(rho, base=np.e, sparse=False) for rho in ρcLindbladianaTriplete]"
   ]
  },
  {
   "cell_type": "code",
   "execution_count": 12,
   "id": "45061aff",
   "metadata": {},
   "outputs": [],
   "source": [
    "#Evolución híbrida Lindbladiana para el quintuplete\n",
    "#Matrices\n",
    "EstadosLindbladianaQuintuplete=[EvolucionLindbladianaQuintuplete.states[t] for t in range(len(time))]\n",
    "ρcLindbladianaQuintuplete=[EstadosLindbladianaQuintuplete[i].ptrace([0,1]) for i in range(len(time))]\n",
    "ρ2cLindbladianaQuintuplete=[ρcLindbladianaQuintuplete[i]*ρcLindbladianaQuintuplete[i] for i in range(len(time))]\n",
    "ρq1LindbladianaQuintuplete=[EstadosLindbladianaQuintuplete[i].ptrace([2]) for i in range(len(time))]\n",
    "ρq2LindbladianaQuintuplete=[EstadosLindbladianaQuintuplete[i].ptrace([3]) for i in range(len(time))]\n",
    "#Trazas\n",
    "TrazaLindbladianaQuintuplete=[(EstadosLindbladianaQuintuplete[i].ptrace([2,3])).tr() for i in range(len(time))]\n",
    "ρcTrazaLindbladianaQuintuplete=[ρcLindbladianaQuintuplete[t].full().trace() for t in range(len(time))]\n",
    "ρ2cTrazaLindbladianaQuintuplete=[ρ2cLindbladianaQuintuplete[t].full().trace() for t in range(len(time))]\n",
    "#Entropías\n",
    "EntropiaLindbladianaQuintuplete=[entropy_vn(rho, base=np.e, sparse=False) for rho in ρcLindbladianaQuintuplete]"
   ]
  },
  {
   "cell_type": "code",
   "execution_count": 13,
   "id": "297431d8-6b0d-4c5d-8e32-fbb0e1046316",
   "metadata": {},
   "outputs": [],
   "source": [
    "#Evolución híbrida unitaria para el singlete\n",
    "#Matrices\n",
    "EstadosUnitariaSinglete=[EvolucionUnitariaSinglete.states[t] for t in range(len(time))]\n",
    "ρcUnitariaSinglete=[EstadosUnitariaSinglete[i].ptrace([0,1]) for i in range(len(time))]\n",
    "ρ2cUnitariaSinglete=[ρcUnitariaSinglete[i]*ρcUnitariaSinglete[i] for i in range(len(time))]\n",
    "ρq1UnitariaSinglete=[EstadosUnitariaSinglete[i].ptrace([2]) for i in range(len(time))]\n",
    "ρq2UnitariaSinglete=[EstadosUnitariaSinglete[i].ptrace([3]) for i in range(len(time))]\n",
    "#Trazas\n",
    "TrazaUnitariaSinglete=[(EstadosUnitariaSinglete[i].ptrace([2,3])).tr() for i in range(len(time))]\n",
    "ρcTrazaUnitariaSinglete=[ρcUnitariaSinglete[t].full().trace() for t in range(len(time))]\n",
    "ρ2cTrazaUnitariaSinglete=[ρ2cUnitariaSinglete[t].full().trace() for t in range(len(time))]\n",
    "#Entropías\n",
    "EntropiaUnitariaSinglete=[entropy_vn(rho, base=np.e, sparse=False) for rho in ρcUnitariaSinglete]\n"
   ]
  },
  {
   "cell_type": "code",
   "execution_count": 14,
   "id": "29ecbbe4",
   "metadata": {},
   "outputs": [],
   "source": [
    "#Evolución clásica unitaria para el triplete\n",
    "#Matrices\n",
    "EstadosUnitariaTriplete=[EvolucionUnitariaTriplete.states[t] for t in range(len(time))]\n",
    "ρcUnitariaTriplete=[EstadosUnitariaTriplete[i].ptrace([0,1]) for i in range(len(time))]\n",
    "ρ2cUnitariaTriplete=[ρcUnitariaTriplete[i]*ρcUnitariaTriplete[i] for i in range(len(time))]\n",
    "ρq1UnitariaTriplete=[EstadosUnitariaTriplete[i].ptrace([2]) for i in range(len(time))]\n",
    "ρq2UnitariaTriplete=[EstadosUnitariaTriplete[i].ptrace([3]) for i in range(len(time))]\n",
    "#Trazas\n",
    "TrazaUnitariaTriplete=[(EstadosUnitariaTriplete[i].ptrace([2,3])).tr() for i in range(len(time))]\n",
    "ρcTrazaUnitariaTriplete=[ρcUnitariaTriplete[t].full().trace() for t in range(len(time))]\n",
    "ρ2cTrazaUnitariaTriplete=[ρ2cUnitariaTriplete[t].full().trace() for t in range(len(time))]\n",
    "#Entropías\n",
    "EntropiaUnitariaTriplete=[entropy_vn(rho, base=np.e, sparse=False) for rho in ρcUnitariaTriplete]"
   ]
  },
  {
   "cell_type": "code",
   "execution_count": 15,
   "id": "5910f60a",
   "metadata": {},
   "outputs": [],
   "source": [
    "#Evolución clásica unitaria para el quintuplete\n",
    "#Matrices\n",
    "EstadosUnitariaQuintuplete=[EvolucionUnitariaQuintuplete.states[t] for t in range(len(time))]\n",
    "ρcUnitariaQuintuplete=[EstadosUnitariaQuintuplete[i].ptrace([0,1]) for i in range(len(time))]\n",
    "ρ2cUnitariaQuintuplete=[ρcUnitariaQuintuplete[i]*ρcUnitariaQuintuplete[i] for i in range(len(time))]\n",
    "ρq1UnitariaQuintuplete=[EstadosUnitariaQuintuplete[i].ptrace([2]) for i in range(len(time))]\n",
    "ρq2UnitariaQuintuplete=[EstadosUnitariaQuintuplete[i].ptrace([3]) for i in range(len(time))]\n",
    "#Trazas\n",
    "TrazaUnitariaQuintuplete=[(EstadosUnitariaQuintuplete[i].ptrace([2,3])).tr() for i in range(len(time))]\n",
    "ρcTrazaUnitariaQuintuplete=[ρcUnitariaQuintuplete[t].full().trace() for t in range(len(time))]\n",
    "ρ2cTrazaUnitariaQuintuplete=[ρ2cUnitariaQuintuplete[t].full().trace() for t in range(len(time))]\n",
    "#Entropías\n",
    "EntropiaUnitariaQuintuplete=[entropy_vn(rho, base=np.e, sparse=False) for rho in ρcUnitariaQuintuplete]"
   ]
  },
  {
   "cell_type": "code",
   "execution_count": 16,
   "id": "d4ca4862",
   "metadata": {},
   "outputs": [],
   "source": [
    "#Evolución clásica Lindbladiana\n",
    "#Matrices\n",
    "EstadosClasica=[EvolucionClasica.states[t] for t in range(len(time))]\n",
    "Estados2Clasica=[EstadosClasica[i]*EstadosClasica[i] for i in range(len(time))]\n",
    "#Trazas\n",
    "TrazaClasica=[(EstadosClasica[i]).tr() for i in range(len(time))]\n",
    "Traza2Clasica=[(Estados2Clasica[i]).tr() for i in range(len(time))]\n",
    "#Entropías\n",
    "EntropiaClasica=[entropy_vn(rho, base=np.e, sparse=False) for rho in EstadosClasica]"
   ]
  },
  {
   "cell_type": "code",
   "execution_count": 18,
   "id": "5fa6edb6",
   "metadata": {},
   "outputs": [
    {
     "name": "stderr",
     "output_type": "stream",
     "text": [
      "C:\\Users\\Usuario\\anaconda3\\lib\\site-packages\\matplotlib\\cbook\\__init__.py:1298: ComplexWarning: Casting complex values to real discards the imaginary part\n",
      "  return np.asarray(x, float)\n",
      "C:\\Users\\Usuario\\anaconda3\\lib\\site-packages\\matplotlib\\cbook\\__init__.py:1298: ComplexWarning: Casting complex values to real discards the imaginary part\n",
      "  return np.asarray(x, float)\n",
      "C:\\Users\\Usuario\\anaconda3\\lib\\site-packages\\matplotlib\\cbook\\__init__.py:1298: ComplexWarning: Casting complex values to real discards the imaginary part\n",
      "  return np.asarray(x, float)\n",
      "C:\\Users\\Usuario\\anaconda3\\lib\\site-packages\\matplotlib\\cbook\\__init__.py:1298: ComplexWarning: Casting complex values to real discards the imaginary part\n",
      "  return np.asarray(x, float)\n",
      "C:\\Users\\Usuario\\anaconda3\\lib\\site-packages\\matplotlib\\cbook\\__init__.py:1298: ComplexWarning: Casting complex values to real discards the imaginary part\n",
      "  return np.asarray(x, float)\n",
      "C:\\Users\\Usuario\\anaconda3\\lib\\site-packages\\matplotlib\\cbook\\__init__.py:1298: ComplexWarning: Casting complex values to real discards the imaginary part\n",
      "  return np.asarray(x, float)\n",
      "C:\\Users\\Usuario\\anaconda3\\lib\\site-packages\\matplotlib\\cbook\\__init__.py:1298: ComplexWarning: Casting complex values to real discards the imaginary part\n",
      "  return np.asarray(x, float)\n"
     ]
    },
    {
     "data": {
      "image/png": "[encoded data removed]",
      "text/plain": [
       "<Figure size 432x288 with 1 Axes>"
      ]
     },
     "metadata": {
      "needs_background": "light"
     },
     "output_type": "display_data"
    }
   ],
   "source": [
    "#Valor medio de los operadores\n",
    "\n",
    "A=tensor(q*p,Iq,Iq)\n",
    "Ac=q*p\n",
    "\n",
    "ALindbladianaSinglete=np.zeros(len(time),dtype=complex)\n",
    "AUnitariaSinglete=np.zeros(len(time),dtype=complex)\n",
    "ALindbladianaTriplete=np.zeros(len(time),dtype=complex)\n",
    "AUnitariaTriplete=np.zeros(len(time),dtype=complex)\n",
    "ALindbladianaQuintuplete=np.zeros(len(time),dtype=complex)\n",
    "AUnitariaQuintuplete=np.zeros(len(time),dtype=complex)\n",
    "AClasica=np.zeros(len(time),dtype=complex)\n",
    "\n",
    "\n",
    "\n",
    "for t in range(len(time)):\n",
    "    ALindbladianaSinglete[t]=((EstadosLindbladianaSinglete[t]*A).ptrace([0,1])).tr()\n",
    "    AUnitariaSinglete[t]=((EstadosUnitariaSinglete[t]*A).ptrace([0,1])).tr()\n",
    "    ALindbladianaTriplete[t]=((EstadosLindbladianaTriplete[t]*A).ptrace([0,1])).tr()\n",
    "    AUnitariaTriplete[t]=((EstadosUnitariaTriplete[t]*A).ptrace([0,1])).tr()\n",
    "    ALindbladianaQuintuplete[t]=((EstadosLindbladianaQuintuplete[t]*A).ptrace([0,1])).tr()\n",
    "    AUnitariaQuintuplete[t]=((EstadosUnitariaQuintuplete[t]*A).ptrace([0,1])).tr()\n",
    "    AClasica[t]=((EstadosClasica[t]*Ac)).tr()\n",
    "\n",
    "\n",
    "fig, ax = plt.subplots()\n",
    "\n",
    "\n",
    "ax.plot(time,ALindbladianaSinglete,color='palegreen',label='Lindblad Singlete')\n",
    "ax.plot(time,ALindbladianaTriplete,color='palegreen',label='Lindblad Triplete')\n",
    "ax.plot(time,ALindbladianaQuintuplete,color='lightskyblue',label='Lindblad Quintuplete')\n",
    "\n",
    "ax.plot(time,AUnitariaSinglete,color='lightseagreen',label='Unitaria Singlete')\n",
    "ax.plot(time,AUnitariaTriplete,color='royalblue',label='Unitaria Triplete')\n",
    "ax.plot(time,AUnitariaQuintuplete,color='rebeccapurple',label='Unitaria Quintuplete')\n",
    "\n",
    "\n",
    "ax.plot(time,AClasica,color='violet',label='Clasica')\n",
    "\n",
    "ax.set_xlabel('$t$')\n",
    "ax.set_ylabel(r\"Tr(ρ$(t)(QP\\otimes\\mathbb{I}_Q)$)\")\n",
    "ax.set_title(r\"Evolución del valor medio de $ QP$\")\n",
    "ax.legend(loc='lower left',ncol=1,fontsize=9)\n",
    "plt.tight_layout()\n",
    "\n",
    "#plt.savefig(\"./Graficas/QP\")\n",
    "plt.show()\n"
   ]
  },
  {
   "cell_type": "code",
   "execution_count": 19,
   "id": "039eba7a-109c-4f01-a134-ff840cdbefee",
   "metadata": {},
   "outputs": [
    {
     "data": {
      "image/png": "[encoded data removed]",
      "text/plain": [
       "<Figure size 432x288 with 1 Axes>"
      ]
     },
     "metadata": {
      "needs_background": "light"
     },
     "output_type": "display_data"
    }
   ],
   "source": [
    "#Entropía clásica\n",
    "\n",
    "fig, ax = plt.subplots()\n",
    "\n",
    "ax.plot(time,EntropiaLindbladianaSinglete,label=\"Lindblad Singlete\",color='violet')\n",
    "ax.plot(time,EntropiaUnitariaSinglete,label=\"Lindblad Singlete/Unitaria\",color='lightseagreen')\n",
    "\n",
    "ax.plot(time,EntropiaLindbladianaTriplete,label=\"Lindblad Triplete\",color='palegreen')\n",
    "ax.plot(time,EntropiaUnitariaTriplete,label=\"Unitaria Triplete\",color='royalblue')\n",
    "\n",
    "ax.plot(time,EntropiaLindbladianaQuintuplete,label=\"Lindblad Quintuplete\",color='lightskyblue')\n",
    "ax.plot(time,EntropiaUnitariaQuintuplete,label=\"Unitaria Quintuplete\",color='darkgreen')\n",
    "\n",
    "ax.plot(time,EntropiaClasica,label=\"Clásico\",color='violet')\n",
    "\n",
    "ax.set_xlabel('t')\n",
    "ax.set_ylabel('S')\n",
    "ax.set_title('Evolución de la entropía de von Neumann clásica')\n",
    "ax.legend(loc='upper left',ncol=1,fontsize=8)\n",
    "\n",
    "#plt.savefig(\"./Graficas/ejemplo2/Entropia_2\")\n",
    "plt.show()\n"
   ]
  },
  {
   "cell_type": "code",
   "execution_count": 20,
   "id": "b7e64837-30ad-4769-979e-7d12ac817fcf",
   "metadata": {},
   "outputs": [
    {
     "name": "stderr",
     "output_type": "stream",
     "text": [
      "C:\\Users\\Usuario\\anaconda3\\lib\\site-packages\\matplotlib\\cbook\\__init__.py:1298: ComplexWarning: Casting complex values to real discards the imaginary part\n",
      "  return np.asarray(x, float)\n",
      "C:\\Users\\Usuario\\anaconda3\\lib\\site-packages\\matplotlib\\cbook\\__init__.py:1298: ComplexWarning: Casting complex values to real discards the imaginary part\n",
      "  return np.asarray(x, float)\n",
      "C:\\Users\\Usuario\\anaconda3\\lib\\site-packages\\matplotlib\\cbook\\__init__.py:1298: ComplexWarning: Casting complex values to real discards the imaginary part\n",
      "  return np.asarray(x, float)\n",
      "C:\\Users\\Usuario\\anaconda3\\lib\\site-packages\\matplotlib\\cbook\\__init__.py:1298: ComplexWarning: Casting complex values to real discards the imaginary part\n",
      "  return np.asarray(x, float)\n",
      "C:\\Users\\Usuario\\anaconda3\\lib\\site-packages\\matplotlib\\cbook\\__init__.py:1298: ComplexWarning: Casting complex values to real discards the imaginary part\n",
      "  return np.asarray(x, float)\n",
      "C:\\Users\\Usuario\\anaconda3\\lib\\site-packages\\matplotlib\\cbook\\__init__.py:1298: ComplexWarning: Casting complex values to real discards the imaginary part\n",
      "  return np.asarray(x, float)\n"
     ]
    },
    {
     "data": {
      "image/png": "[encoded data removed]",
      "text/plain": [
       "<Figure size 432x288 with 1 Axes>"
      ]
     },
     "metadata": {
      "needs_background": "light"
     },
     "output_type": "display_data"
    }
   ],
   "source": [
    "#Pureza clásica\n",
    "\n",
    "fig, ax = plt.subplots()\n",
    "ax.plot(time,ρ2cTrazaLindbladianaSinglete,label=\"Lindblad Singlete\",color='violet')\n",
    "ax.plot(time,ρ2cTrazaUnitariaSinglete,label=\"Lindblad Singlete/Unitaria\",color='lightseagreen')\n",
    "\n",
    "ax.plot(time,ρ2cTrazaLindbladianaTriplete,label=\"Lindblad Triplete\",color='palegreen')\n",
    "ax.plot(time,ρ2cTrazaUnitariaTriplete,label=\"Unitaria Triplete\",color='royalblue')\n",
    "\n",
    "ax.plot(time,ρ2cTrazaLindbladianaQuintuplete,label=\"Lindblad Quintuplete\",color='lightskyblue')\n",
    "ax.plot(time,ρ2cTrazaUnitariaQuintuplete,label=\"Unitaria Quintuplete\",color='darkgreen')\n",
    "\n",
    "ax.plot(time,Traza2Clasica,label=\"Clásico\",color='violet')\n",
    "\n",
    "ax.set_xlabel(\"$t$\")\n",
    "ax.set_ylabel(\"Tr(ρ$^2$)\")\n",
    "ax.set_title('Pureza parte clásica')\n",
    "ax.legend(loc='lower left',ncol=1,fontsize=8)\n",
    "\n",
    "#plt.savefig(\"./Graficas/ejemplo2/PurezaClasica_2\")\n",
    "plt.show()"
   ]
  }
 ],
 "metadata": {
  "kernelspec": {
   "display_name": "Python 3 (ipykernel)",
   "language": "python",
   "name": "python3"
  },
  "language_info": {
   "codemirror_mode": {
    "name": "ipython",
    "version": 3
   },
   "file_extension": ".py",
   "mimetype": "text/x-python",
   "name": "python",
   "nbconvert_exporter": "python",
   "pygments_lexer": "ipython3",
   "version": "3.9.12"
  }
 },
 "nbformat": 4,
 "nbformat_minor": 5
}
